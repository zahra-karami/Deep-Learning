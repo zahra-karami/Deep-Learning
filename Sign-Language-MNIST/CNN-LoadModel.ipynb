{
 "cells": [
  {
   "cell_type": "code",
   "execution_count": 1,
   "metadata": {
    "scrolled": true
   },
   "outputs": [
    {
     "name": "stderr",
     "output_type": "stream",
     "text": [
      "Using TensorFlow backend.\n"
     ]
    }
   ],
   "source": [
    "import time\n",
    "from time import perf_counter as timer\n",
    "\n",
    "from collections import Counter\n",
    "import pandas as pd\n",
    "import numpy as np\n",
    "import matplotlib.pyplot as plt\n",
    "%matplotlib inline\n",
    "\n",
    "from sklearn import metrics\n",
    "\n",
    "from tensorflow import keras\n",
    "from keras.layers import Dense \n",
    "from keras.layers import Conv2D \n",
    "from keras.layers import MaxPooling2D \n",
    "from keras.layers import Flatten , Dropout\n",
    "\n",
    "from sklearn.model_selection import train_test_split\n",
    "from keras.regularizers  import l2\n",
    "from keras import optimizers\n",
    "from keras.utils.np_utils import to_categorical\n",
    "from keras.models import Sequential\n",
    "from utility import loadData, signsLabels"
   ]
  },
  {
   "cell_type": "code",
   "execution_count": 2,
   "metadata": {},
   "outputs": [],
   "source": [
    "X_train, y_train, X_test, y_test = loadData()\n",
    "X_test = X_test.reshape(X_test.shape[0], 28, 28, 1)"
   ]
  },
  {
   "cell_type": "code",
   "execution_count": 3,
   "metadata": {},
   "outputs": [
    {
     "name": "stdout",
     "output_type": "stream",
     "text": [
      "Unique Values:  [ 0  1  2  3  4  5  6  7  8 10 11 12 13 14 15 16 17 18 19 20 21 22 23 24]\n",
      "Number of classes: 25\n"
     ]
    }
   ],
   "source": [
    "unique_values = np.unique(y_test)\n",
    "NUM_CLASSES = len(unique_values) + 1\n",
    "print(\"Unique Values: \", unique_values)\n",
    "print(\"Number of classes:\" , NUM_CLASSES)"
   ]
  },
  {
   "cell_type": "code",
   "execution_count": 4,
   "metadata": {},
   "outputs": [],
   "source": [
    "model_cnn = keras.models.load_model('models/CNN_model.h5')"
   ]
  },
  {
   "cell_type": "code",
   "execution_count": 5,
   "metadata": {},
   "outputs": [
    {
     "name": "stdout",
     "output_type": "stream",
     "text": [
      "Accuracy: 0.9916341327384273\n",
      "Precision: 0.9916341327384273\n",
      "Recall: 0.9916341327384273\n"
     ]
    }
   ],
   "source": [
    "predicts = model_cnn.predict(x = X_test, verbose=0)\n",
    "y_pred = np.argmax(predicts, axis=1)\n",
    "\n",
    "# Model Accuracy: how often is the classifier correct?\n",
    "print(\"Accuracy:\",metrics.accuracy_score(y_test, y_pred))\n",
    "\n",
    "# Model Precision: what percentage of positive tuples are labeled as such?\n",
    "print(\"Precision:\",metrics.precision_score(y_test, y_pred , average='micro'))\n",
    "\n",
    "# Model Recall: what percentage of positive tuples are labelled as such?\n",
    "print(\"Recall:\",metrics.recall_score(y_test, y_pred, average='micro'))"
   ]
  },
  {
   "cell_type": "code",
   "execution_count": 6,
   "metadata": {},
   "outputs": [
    {
     "data": {
      "text/html": [
       "<div>\n",
       "<style scoped>\n",
       "    .dataframe tbody tr th:only-of-type {\n",
       "        vertical-align: middle;\n",
       "    }\n",
       "\n",
       "    .dataframe tbody tr th {\n",
       "        vertical-align: top;\n",
       "    }\n",
       "\n",
       "    .dataframe thead th {\n",
       "        text-align: right;\n",
       "    }\n",
       "</style>\n",
       "<table border=\"1\" class=\"dataframe\">\n",
       "  <thead>\n",
       "    <tr style=\"text-align: right;\">\n",
       "      <th></th>\n",
       "      <th>A</th>\n",
       "      <th>B</th>\n",
       "      <th>C</th>\n",
       "      <th>D</th>\n",
       "      <th>E</th>\n",
       "      <th>F</th>\n",
       "      <th>G</th>\n",
       "      <th>H</th>\n",
       "      <th>I</th>\n",
       "      <th>K</th>\n",
       "      <th>...</th>\n",
       "      <th>S</th>\n",
       "      <th>T</th>\n",
       "      <th>U</th>\n",
       "      <th>V</th>\n",
       "      <th>W</th>\n",
       "      <th>X</th>\n",
       "      <th>Y</th>\n",
       "      <th>accuracy</th>\n",
       "      <th>macro avg</th>\n",
       "      <th>weighted avg</th>\n",
       "    </tr>\n",
       "  </thead>\n",
       "  <tbody>\n",
       "    <tr>\n",
       "      <th>precision</th>\n",
       "      <td>1.0</td>\n",
       "      <td>1.0</td>\n",
       "      <td>1.0</td>\n",
       "      <td>1.0</td>\n",
       "      <td>1.0</td>\n",
       "      <td>1.0</td>\n",
       "      <td>1.000000</td>\n",
       "      <td>0.960352</td>\n",
       "      <td>1.0</td>\n",
       "      <td>1.000000</td>\n",
       "      <td>...</td>\n",
       "      <td>1.0</td>\n",
       "      <td>0.987805</td>\n",
       "      <td>0.975904</td>\n",
       "      <td>0.994253</td>\n",
       "      <td>1.0</td>\n",
       "      <td>0.981618</td>\n",
       "      <td>1.0</td>\n",
       "      <td>0.991634</td>\n",
       "      <td>0.989665</td>\n",
       "      <td>0.992099</td>\n",
       "    </tr>\n",
       "    <tr>\n",
       "      <th>recall</th>\n",
       "      <td>1.0</td>\n",
       "      <td>1.0</td>\n",
       "      <td>1.0</td>\n",
       "      <td>1.0</td>\n",
       "      <td>1.0</td>\n",
       "      <td>1.0</td>\n",
       "      <td>0.936782</td>\n",
       "      <td>1.000000</td>\n",
       "      <td>1.0</td>\n",
       "      <td>0.993958</td>\n",
       "      <td>...</td>\n",
       "      <td>1.0</td>\n",
       "      <td>0.979839</td>\n",
       "      <td>0.913534</td>\n",
       "      <td>1.000000</td>\n",
       "      <td>1.0</td>\n",
       "      <td>1.000000</td>\n",
       "      <td>1.0</td>\n",
       "      <td>0.991634</td>\n",
       "      <td>0.991234</td>\n",
       "      <td>0.991634</td>\n",
       "    </tr>\n",
       "    <tr>\n",
       "      <th>f1-score</th>\n",
       "      <td>1.0</td>\n",
       "      <td>1.0</td>\n",
       "      <td>1.0</td>\n",
       "      <td>1.0</td>\n",
       "      <td>1.0</td>\n",
       "      <td>1.0</td>\n",
       "      <td>0.967359</td>\n",
       "      <td>0.979775</td>\n",
       "      <td>1.0</td>\n",
       "      <td>0.996970</td>\n",
       "      <td>...</td>\n",
       "      <td>1.0</td>\n",
       "      <td>0.983806</td>\n",
       "      <td>0.943689</td>\n",
       "      <td>0.997118</td>\n",
       "      <td>1.0</td>\n",
       "      <td>0.990724</td>\n",
       "      <td>1.0</td>\n",
       "      <td>0.991634</td>\n",
       "      <td>0.990159</td>\n",
       "      <td>0.991659</td>\n",
       "    </tr>\n",
       "    <tr>\n",
       "      <th>support</th>\n",
       "      <td>331.0</td>\n",
       "      <td>432.0</td>\n",
       "      <td>310.0</td>\n",
       "      <td>245.0</td>\n",
       "      <td>498.0</td>\n",
       "      <td>247.0</td>\n",
       "      <td>348.000000</td>\n",
       "      <td>436.000000</td>\n",
       "      <td>288.0</td>\n",
       "      <td>331.000000</td>\n",
       "      <td>...</td>\n",
       "      <td>246.0</td>\n",
       "      <td>248.000000</td>\n",
       "      <td>266.000000</td>\n",
       "      <td>346.000000</td>\n",
       "      <td>206.0</td>\n",
       "      <td>267.000000</td>\n",
       "      <td>332.0</td>\n",
       "      <td>0.991634</td>\n",
       "      <td>7172.000000</td>\n",
       "      <td>7172.000000</td>\n",
       "    </tr>\n",
       "  </tbody>\n",
       "</table>\n",
       "<p>4 rows × 27 columns</p>\n",
       "</div>"
      ],
      "text/plain": [
       "               A      B      C      D      E      F           G           H  \\\n",
       "precision    1.0    1.0    1.0    1.0    1.0    1.0    1.000000    0.960352   \n",
       "recall       1.0    1.0    1.0    1.0    1.0    1.0    0.936782    1.000000   \n",
       "f1-score     1.0    1.0    1.0    1.0    1.0    1.0    0.967359    0.979775   \n",
       "support    331.0  432.0  310.0  245.0  498.0  247.0  348.000000  436.000000   \n",
       "\n",
       "               I           K  ...      S           T           U           V  \\\n",
       "precision    1.0    1.000000  ...    1.0    0.987805    0.975904    0.994253   \n",
       "recall       1.0    0.993958  ...    1.0    0.979839    0.913534    1.000000   \n",
       "f1-score     1.0    0.996970  ...    1.0    0.983806    0.943689    0.997118   \n",
       "support    288.0  331.000000  ...  246.0  248.000000  266.000000  346.000000   \n",
       "\n",
       "               W           X      Y  accuracy    macro avg  weighted avg  \n",
       "precision    1.0    0.981618    1.0  0.991634     0.989665      0.992099  \n",
       "recall       1.0    1.000000    1.0  0.991634     0.991234      0.991634  \n",
       "f1-score     1.0    0.990724    1.0  0.991634     0.990159      0.991659  \n",
       "support    206.0  267.000000  332.0  0.991634  7172.000000   7172.000000  \n",
       "\n",
       "[4 rows x 27 columns]"
      ]
     },
     "execution_count": 6,
     "metadata": {},
     "output_type": "execute_result"
    }
   ],
   "source": [
    "report = metrics.classification_report(y_test, y_pred, output_dict=True)\n",
    "columns = list(signsLabels().values())\n",
    "df = pd.DataFrame(report)\n",
    "columns.extend(['accuracy','macro avg','weighted avg'])\n",
    "df.columns = columns\n",
    "df.to_csv('output/CNN_classification_report.csv')\n",
    "df"
   ]
  },
  {
   "cell_type": "code",
   "execution_count": null,
   "metadata": {},
   "outputs": [],
   "source": []
  }
 ],
 "metadata": {
  "kernelspec": {
   "display_name": "Python 3",
   "language": "python",
   "name": "python3"
  },
  "language_info": {
   "codemirror_mode": {
    "name": "ipython",
    "version": 3
   },
   "file_extension": ".py",
   "mimetype": "text/x-python",
   "name": "python",
   "nbconvert_exporter": "python",
   "pygments_lexer": "ipython3",
   "version": "3.7.3"
  }
 },
 "nbformat": 4,
 "nbformat_minor": 4
}
